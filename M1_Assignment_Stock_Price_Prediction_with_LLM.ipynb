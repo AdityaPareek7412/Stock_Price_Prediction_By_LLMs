{
  "cells": [
    {
      "cell_type": "markdown",
      "metadata": {
        "id": "view-in-github",
        "colab_type": "text"
      },
      "source": [
        "<a href=\"https://colab.research.google.com/github/AdityaPareek7412/Stock_Price_Prediction_By_LLMs/blob/main/M1_Assignment_Stock_Price_Prediction_with_LLM.ipynb\" target=\"_parent\"><img src=\"https://colab.research.google.com/assets/colab-badge.svg\" alt=\"Open In Colab\"/></a>"
      ]
    },
    {
      "cell_type": "markdown",
      "metadata": {
        "id": "3XRCzVcg8qq6"
      },
      "source": [
        "# Module 1 No Code/Low Code Assignment: Stock Price Prediction with LLM (Using Gemini in Colab)\n",
        "\n",
        "This assignment explores how large language models (LLMs) can perform complex tasks that previously required coding. Instead of manually writing code, we will interact with Google's Gemini (Click on the Gemini icon on the top right corner) in Google Colab to:\n",
        "\n",
        "- Load and analyze stock price data.\n",
        "- Engineer relevant features for prediction.\n",
        "- Build and evaluate models such as regression and random forest.\n",
        "- Discuss potential trading strategies based on predictions.\n",
        "\n",
        "**Note**: While this notebook contains example code, students are encouraged to use LLMs to generate code snippets and explanations, managing interactions within the LLM's context window.\n",
        "\n",
        "## Task Breakdown\n",
        "\n",
        "### Step 1: Data Exploration\n",
        "- **Prompt the LLM**: Load historical stock price data for Apple Inc. (AAPL) from 2020-01-01 to 2023-01-01 using Yahoo Finance.\n",
        "- **Key Considerations**: Ensure the model retains context while summarizing key statistics.\n",
        "\n",
        "### Step 2: Feature Engineering\n",
        "- **Prompt the LLM**: Generate meaningful features such as moving averages, technical indicators, and volatility measures.\n",
        "- **Managing Context**: If the LLM forgets prior outputs, remind it by reintroducing key statistics.\n",
        "\n",
        "### Step 3: Model Building\n",
        "- **Prompt the LLM**: Train a model (regression for price prediction, random forest for trend classification).\n",
        "- **Split Ratio Consideration**: Explain the importance of train-test split (e.g., 70/30) and verify the LLM respects it.\n",
        "\n",
        "### Step 4: Model Evaluation & Prediction\n",
        "- **Prompt the LLM**: Use the trained model to predict stock prices for 2023-2024.\n",
        "- **Analyze Performance**: Interpret accuracy, R² scores, and classification reports.\n",
        "\n",
        "### Step 5: Strategy Discussion\n",
        "- **Prompt the LLM**: Based on model performance, discuss possible trading strategies.\n",
        "- **Critical Thinking**: Evaluate whether the model is truly useful for financial decision-making.\n",
        "\n",
        "---\n",
        "\n",
        "Throughout the assignment, keep in mind that LLMs have a limited context window. If necessary, break down tasks into smaller chunks and reintroduce critical information.\n",
        "\n"
      ]
    },
    {
      "cell_type": "markdown",
      "metadata": {
        "id": "1_csYjq8h7yt"
      },
      "source": [
        "## Using Gemini in Colab\n",
        "\n",
        "To use Gemini directly in your browser within Google Colab:\n",
        "\n",
        "1. **Create a new code cell** by clicking the `+ Code` button.\n",
        "2. In the newly created cell, you will see a placeholder text: **\"Start coding or generate with AI\"**.\n",
        "3. Click on **\"Generate\"** and enter your prompt, such as:\n",
        "   > \"Load historical stock price data for Apple Inc. (AAPL) from 2020-01-01 to 2023-01-01 using Yahoo Finance and summarize its key statistics.\"\n",
        "4. Gemini will generate code based on your prompt. You can then review, modify, and run it within the notebook.\n",
        "5. If the model loses context, you may need to remind it of previous responses or break down tasks into smaller steps.\n",
        "\n",
        "This method allows you to interactively generate and refine code without manually writing every line.\n"
      ]
    },
    {
      "cell_type": "code",
      "execution_count": 5,
      "metadata": {
        "id": "iMgjTlOjk05n",
        "colab": {
          "base_uri": "https://localhost:8080/"
        },
        "outputId": "8d06de64-fa44-416e-cb09-1f056a14daad"
      },
      "outputs": [
        {
          "output_type": "stream",
          "name": "stdout",
          "text": [
            "Requirement already satisfied: yfinance in /usr/local/lib/python3.11/dist-packages (0.2.65)\n",
            "Requirement already satisfied: pandas>=1.3.0 in /usr/local/lib/python3.11/dist-packages (from yfinance) (2.2.2)\n",
            "Requirement already satisfied: numpy>=1.16.5 in /usr/local/lib/python3.11/dist-packages (from yfinance) (2.0.2)\n",
            "Requirement already satisfied: requests>=2.31 in /usr/local/lib/python3.11/dist-packages (from yfinance) (2.32.3)\n",
            "Requirement already satisfied: multitasking>=0.0.7 in /usr/local/lib/python3.11/dist-packages (from yfinance) (0.0.12)\n",
            "Requirement already satisfied: platformdirs>=2.0.0 in /usr/local/lib/python3.11/dist-packages (from yfinance) (4.3.8)\n",
            "Requirement already satisfied: pytz>=2022.5 in /usr/local/lib/python3.11/dist-packages (from yfinance) (2025.2)\n",
            "Requirement already satisfied: frozendict>=2.3.4 in /usr/local/lib/python3.11/dist-packages (from yfinance) (2.4.6)\n",
            "Requirement already satisfied: peewee>=3.16.2 in /usr/local/lib/python3.11/dist-packages (from yfinance) (3.18.2)\n",
            "Requirement already satisfied: beautifulsoup4>=4.11.1 in /usr/local/lib/python3.11/dist-packages (from yfinance) (4.13.4)\n",
            "Requirement already satisfied: curl_cffi>=0.7 in /usr/local/lib/python3.11/dist-packages (from yfinance) (0.13.0)\n",
            "Requirement already satisfied: protobuf>=3.19.0 in /usr/local/lib/python3.11/dist-packages (from yfinance) (5.29.5)\n",
            "Requirement already satisfied: websockets>=13.0 in /usr/local/lib/python3.11/dist-packages (from yfinance) (15.0.1)\n",
            "Requirement already satisfied: soupsieve>1.2 in /usr/local/lib/python3.11/dist-packages (from beautifulsoup4>=4.11.1->yfinance) (2.7)\n",
            "Requirement already satisfied: typing-extensions>=4.0.0 in /usr/local/lib/python3.11/dist-packages (from beautifulsoup4>=4.11.1->yfinance) (4.14.1)\n",
            "Requirement already satisfied: cffi>=1.12.0 in /usr/local/lib/python3.11/dist-packages (from curl_cffi>=0.7->yfinance) (1.17.1)\n",
            "Requirement already satisfied: certifi>=2024.2.2 in /usr/local/lib/python3.11/dist-packages (from curl_cffi>=0.7->yfinance) (2025.8.3)\n",
            "Requirement already satisfied: python-dateutil>=2.8.2 in /usr/local/lib/python3.11/dist-packages (from pandas>=1.3.0->yfinance) (2.9.0.post0)\n",
            "Requirement already satisfied: tzdata>=2022.7 in /usr/local/lib/python3.11/dist-packages (from pandas>=1.3.0->yfinance) (2025.2)\n",
            "Requirement already satisfied: charset-normalizer<4,>=2 in /usr/local/lib/python3.11/dist-packages (from requests>=2.31->yfinance) (3.4.3)\n",
            "Requirement already satisfied: idna<4,>=2.5 in /usr/local/lib/python3.11/dist-packages (from requests>=2.31->yfinance) (3.10)\n",
            "Requirement already satisfied: urllib3<3,>=1.21.1 in /usr/local/lib/python3.11/dist-packages (from requests>=2.31->yfinance) (2.5.0)\n",
            "Requirement already satisfied: pycparser in /usr/local/lib/python3.11/dist-packages (from cffi>=1.12.0->curl_cffi>=0.7->yfinance) (2.22)\n",
            "Requirement already satisfied: six>=1.5 in /usr/local/lib/python3.11/dist-packages (from python-dateutil>=2.8.2->pandas>=1.3.0->yfinance) (1.17.0)\n"
          ]
        },
        {
          "output_type": "stream",
          "name": "stderr",
          "text": [
            "/tmp/ipython-input-1433581267.py:9: FutureWarning: YF.download() has changed argument auto_adjust default to True\n",
            "  data = yf.download(\"AAPL\", start=\"2020-01-01\", end=\"2023-01-01\")\n",
            "\r[*********************100%***********************]  1 of 1 completed"
          ]
        },
        {
          "output_type": "stream",
          "name": "stdout",
          "text": [
            "Price        Close        High         Low        Open        Volume\n",
            "Ticker        AAPL        AAPL        AAPL        AAPL          AAPL\n",
            "count   756.000000  756.000000  756.000000  756.000000  7.560000e+02\n",
            "mean    127.488414  129.035076  125.828629  127.410552  1.120920e+08\n",
            "std      30.386976   30.664098   30.105383   30.415044  5.602586e+07\n",
            "min      54.316933   55.316751   51.469998   55.215075  3.519590e+07\n",
            "25%     112.581739  114.075470  111.125703  112.761683  7.636470e+07\n",
            "50%     132.859985  133.991766  130.902078  132.681703  9.493580e+07\n",
            "75%     148.053478  149.219241  146.111085  147.421458  1.296327e+08\n",
            "max     178.443161  179.354917  175.609770  179.050994  4.265100e+08\n"
          ]
        },
        {
          "output_type": "stream",
          "name": "stderr",
          "text": [
            "\n"
          ]
        }
      ],
      "source": [
        "# prompt: Load historical stock price data for Apple Inc. (AAPL) from 2020-01-01 to 2023-01-01 using Yahoo Finance and summarize its key statistics.\n",
        "\n",
        "!pip install yfinance\n",
        "\n",
        "import yfinance as yf\n",
        "import pandas as pd\n",
        "\n",
        "# Download historical data for AAPL\n",
        "data = yf.download(\"AAPL\", start=\"2020-01-01\", end=\"2023-01-01\")\n",
        "\n",
        "# Display summary statistics\n",
        "print(data.describe())\n"
      ]
    },
    {
      "cell_type": "code",
      "execution_count": 6,
      "metadata": {
        "colab": {
          "base_uri": "https://localhost:8080/"
        },
        "id": "qKaqonJh7rMO",
        "outputId": "4ab9da80-2d1e-4bbd-a7c4-c7796ad57343"
      },
      "outputs": [
        {
          "output_type": "stream",
          "name": "stdout",
          "text": [
            "Requirement already satisfied: yfinance in /usr/local/lib/python3.11/dist-packages (0.2.65)\n",
            "Requirement already satisfied: pandas>=1.3.0 in /usr/local/lib/python3.11/dist-packages (from yfinance) (2.2.2)\n",
            "Requirement already satisfied: numpy>=1.16.5 in /usr/local/lib/python3.11/dist-packages (from yfinance) (2.0.2)\n",
            "Requirement already satisfied: requests>=2.31 in /usr/local/lib/python3.11/dist-packages (from yfinance) (2.32.3)\n",
            "Requirement already satisfied: multitasking>=0.0.7 in /usr/local/lib/python3.11/dist-packages (from yfinance) (0.0.12)\n",
            "Requirement already satisfied: platformdirs>=2.0.0 in /usr/local/lib/python3.11/dist-packages (from yfinance) (4.3.8)\n",
            "Requirement already satisfied: pytz>=2022.5 in /usr/local/lib/python3.11/dist-packages (from yfinance) (2025.2)\n",
            "Requirement already satisfied: frozendict>=2.3.4 in /usr/local/lib/python3.11/dist-packages (from yfinance) (2.4.6)\n",
            "Requirement already satisfied: peewee>=3.16.2 in /usr/local/lib/python3.11/dist-packages (from yfinance) (3.18.2)\n",
            "Requirement already satisfied: beautifulsoup4>=4.11.1 in /usr/local/lib/python3.11/dist-packages (from yfinance) (4.13.4)\n",
            "Requirement already satisfied: curl_cffi>=0.7 in /usr/local/lib/python3.11/dist-packages (from yfinance) (0.13.0)\n",
            "Requirement already satisfied: protobuf>=3.19.0 in /usr/local/lib/python3.11/dist-packages (from yfinance) (5.29.5)\n",
            "Requirement already satisfied: websockets>=13.0 in /usr/local/lib/python3.11/dist-packages (from yfinance) (15.0.1)\n",
            "Requirement already satisfied: soupsieve>1.2 in /usr/local/lib/python3.11/dist-packages (from beautifulsoup4>=4.11.1->yfinance) (2.7)\n",
            "Requirement already satisfied: typing-extensions>=4.0.0 in /usr/local/lib/python3.11/dist-packages (from beautifulsoup4>=4.11.1->yfinance) (4.14.1)\n",
            "Requirement already satisfied: cffi>=1.12.0 in /usr/local/lib/python3.11/dist-packages (from curl_cffi>=0.7->yfinance) (1.17.1)\n",
            "Requirement already satisfied: certifi>=2024.2.2 in /usr/local/lib/python3.11/dist-packages (from curl_cffi>=0.7->yfinance) (2025.8.3)\n",
            "Requirement already satisfied: python-dateutil>=2.8.2 in /usr/local/lib/python3.11/dist-packages (from pandas>=1.3.0->yfinance) (2.9.0.post0)\n",
            "Requirement already satisfied: tzdata>=2022.7 in /usr/local/lib/python3.11/dist-packages (from pandas>=1.3.0->yfinance) (2025.2)\n",
            "Requirement already satisfied: charset-normalizer<4,>=2 in /usr/local/lib/python3.11/dist-packages (from requests>=2.31->yfinance) (3.4.3)\n",
            "Requirement already satisfied: idna<4,>=2.5 in /usr/local/lib/python3.11/dist-packages (from requests>=2.31->yfinance) (3.10)\n",
            "Requirement already satisfied: urllib3<3,>=1.21.1 in /usr/local/lib/python3.11/dist-packages (from requests>=2.31->yfinance) (2.5.0)\n",
            "Requirement already satisfied: pycparser in /usr/local/lib/python3.11/dist-packages (from cffi>=1.12.0->curl_cffi>=0.7->yfinance) (2.22)\n",
            "Requirement already satisfied: six>=1.5 in /usr/local/lib/python3.11/dist-packages (from python-dateutil>=2.8.2->pandas>=1.3.0->yfinance) (1.17.0)\n"
          ]
        },
        {
          "output_type": "stream",
          "name": "stderr",
          "text": [
            "/tmp/ipython-input-730687086.py:9: FutureWarning: YF.download() has changed argument auto_adjust default to True\n",
            "  data = yf.download(\"AAPL\", start=\"2020-01-01\", end=\"2023-01-01\")\n",
            "\r[*********************100%***********************]  1 of 1 completed"
          ]
        },
        {
          "output_type": "stream",
          "name": "stdout",
          "text": [
            "Price        Close        High         Low        Open        Volume\n",
            "Ticker        AAPL        AAPL        AAPL        AAPL          AAPL\n",
            "count   756.000000  756.000000  756.000000  756.000000  7.560000e+02\n",
            "mean    127.488414  129.035076  125.828629  127.410552  1.120920e+08\n",
            "std      30.386976   30.664098   30.105383   30.415044  5.602586e+07\n",
            "min      54.316933   55.316751   51.469998   55.215075  3.519590e+07\n",
            "25%     112.581739  114.075470  111.125703  112.761683  7.636470e+07\n",
            "50%     132.859985  133.991766  130.902078  132.681703  9.493580e+07\n",
            "75%     148.053478  149.219241  146.111085  147.421458  1.296327e+08\n",
            "max     178.443161  179.354917  175.609770  179.050994  4.265100e+08\n"
          ]
        },
        {
          "output_type": "stream",
          "name": "stderr",
          "text": [
            "\n"
          ]
        }
      ],
      "source": [
        "# prompt: Load historical stock price data for Apple Inc. (AAPL) from 2020-01-01 to 2023-01-01 using Yahoo Finance and summarize its key statistics.\n",
        "\n",
        "!pip install yfinance\n",
        "\n",
        "import yfinance as yf\n",
        "import pandas as pd\n",
        "\n",
        "# Download historical data for AAPL from 2020-01-01 to 2023-01-01\n",
        "data = yf.download(\"AAPL\", start=\"2020-01-01\", end=\"2023-01-01\")\n",
        "\n",
        "# Summarize key statistics\n",
        "print(data.describe())\n"
      ]
    },
    {
      "cell_type": "code",
      "execution_count": 7,
      "metadata": {
        "colab": {
          "base_uri": "https://localhost:8080/"
        },
        "id": "tEuXvSCP6QWj",
        "outputId": "c53ddb18-c1c0-4a12-bd5b-83fe41033190"
      },
      "outputs": [
        {
          "output_type": "stream",
          "name": "stderr",
          "text": [
            "/tmp/ipython-input-3699561310.py:6: FutureWarning: YF.download() has changed argument auto_adjust default to True\n",
            "  data = yf.download(\"AAPL\", start=\"2020-01-01\", end=\"2023-01-01\")\n",
            "\r[*********************100%***********************]  1 of 1 completed"
          ]
        },
        {
          "output_type": "stream",
          "name": "stdout",
          "text": [
            "Price        Close        High         Low        Open        Volume\n",
            "Ticker        AAPL        AAPL        AAPL        AAPL          AAPL\n",
            "count   756.000000  756.000000  756.000000  756.000000  7.560000e+02\n",
            "mean    127.488414  129.035076  125.828629  127.410552  1.120920e+08\n",
            "std      30.386976   30.664098   30.105383   30.415044  5.602586e+07\n",
            "min      54.316933   55.316751   51.469998   55.215075  3.519590e+07\n",
            "25%     112.581739  114.075470  111.125703  112.761683  7.636470e+07\n",
            "50%     132.859985  133.991766  130.902078  132.681703  9.493580e+07\n",
            "75%     148.053478  149.219241  146.111085  147.421458  1.296327e+08\n",
            "max     178.443161  179.354917  175.609770  179.050994  4.265100e+08\n"
          ]
        },
        {
          "output_type": "stream",
          "name": "stderr",
          "text": [
            "\n"
          ]
        }
      ],
      "source": [
        "# Prompt: Load historical stock price data for Apple Inc. (AAPL) from 2020-01-01 to 2023-01-01\n",
        "# using Yahoo Finance and summarize its key statistics.\n",
        "\n",
        "import yfinance as yf\n",
        "\n",
        "data = yf.download(\"AAPL\", start=\"2020-01-01\", end=\"2023-01-01\")\n",
        "\n",
        "# Summarize key statistics\n",
        "print(data.describe())\n",
        "\n"
      ]
    },
    {
      "cell_type": "markdown",
      "metadata": {
        "id": "mO9zmOSrj7b2"
      },
      "source": [
        "## Now try doing step 2 - step 5 by yourself\n",
        "\n",
        "The sample prompts and LLM responses are listed below for your reference."
      ]
    },
    {
      "cell_type": "code",
      "execution_count": 7,
      "metadata": {
        "id": "4Azv7KJQkStv"
      },
      "outputs": [],
      "source": []
    },
    {
      "cell_type": "markdown",
      "metadata": {
        "id": "KSb-lVTs67ir"
      },
      "source": [
        "# Sample Prompts and LLM Responses\n",
        "---\n",
        "\n",
        "## Step 1: Data Exploration\n",
        "\n",
        "### Prompt:\n",
        "> Load historical stock price data for Apple Inc. (AAPL) from 2020-01-01 to 2023-01-01 from Yahoo Finance, keep it in memory and summarize its key statistics.\n",
        "\n",
        "### LLM Response:\n",
        "- **Highest Closing Price:** \\$182.01 on January 3, 2022\n",
        "- **Lowest Closing Price:** \\$56.01 on March 23, 2020\n",
        "- **Average Closing Price:** \\$126.69\n",
        "- **Total Trading Days:** 756\n",
        "\n",
        "---\n",
        "\n",
        "## Step 2: Feature Engineering\n",
        "\n",
        "### Prompt:\n",
        "> Suggest some features that might help improve a stock price prediction model.\n",
        "\n",
        "### LLM Response:\n",
        "1. **Historical Prices**: Include past closing, opening, high, and low prices.\n",
        "2. **Volume**: Daily trading volumes.\n",
        "3. **Moving Averages**: Simple and exponential moving averages (e.g., 5-day, 10-day, 50-day).\n",
        "4. **Technical Indicators**: RSI, MACD, Bollinger Bands, etc.\n",
        "5. **Volatility**: Historical volatility, Average True Range (ATR).\n",
        "6. **Sentiment Analysis**: News articles, social media sentiment.\n",
        "7. **Economic Indicators**: Interest rates, inflation rates, GDP growth.\n",
        "8. **Time-based Features**: Day of the week, month, year.\n",
        "9. **Sector Performance**: Comparison with industry and sector indices.\n",
        "10. **External Events**: Major geopolitical events, earnings reports.\n",
        "\n",
        "---\n",
        "\n",
        "## Step 3.1: Model Building - Linear Regression\n",
        "\n",
        "### Prompt:\n",
        "> Adopt the first four kinds of features and train a regression model to predict tomorrow's stock price. Split your training and testing data by a 70/30 ratio and report your performance metric.\n",
        "\n",
        "### LLM Response:\n",
        "- **Mean Squared Error (MSE):** 859.04\n",
        "- **R-squared (R²) Score:** -0.009\n",
        "\n",
        "These metrics indicate that the model is not performing well, as an R² score close to zero or negative suggests that the model does not explain the variability in the target variable better than a simple mean of the target variable. This outcome suggests that the chosen features and model might need adjustments or improvements to enhance prediction accuracy. ​​\n",
        "\n",
        "---\n",
        "(It might be too hard to predict the exact price but how about ups and downs?)\n",
        "# Step 3.2: Model Building - Random Forest Classification\n",
        "\n",
        "### Prompt:\n",
        "> Create a binary target variable based on historical prices (1 if the close price increase tomorrow, 0 other), and train a Random Forest model using the same train/test split ratio. Report feature importance and performance metrics.\n",
        "\n",
        "### LLM Response:\n",
        "- **Accuracy:** 71.82%\n",
        "- **Confusion Matrix:** [[84, 26],\n",
        " [36, 74]]\n",
        "- **Classification Report:**\n",
        "\n",
        "              precision    recall  f1-score   support\n",
        "\n",
        "         0       0.70      0.76      0.73       110\n",
        "         1       0.74      0.67      0.70       110\n",
        "        accuracy                     0.72       220\n",
        "        macro avg    0.72      0.72      0.72       220\n",
        "        weighted avg  0.72      0.72      0.72       220\n",
        "\n",
        "\n",
        "\n",
        "- **Feature Importance:** The most important feature for predicting whether the price will increase or decrease the next day is the closing price, followed by the 5-day moving average (MA_5). The model achieved an accuracy of approximately 71.82%, indicating a reasonable performance for this classification task.\n",
        "         Feature\tImportance\n",
        "         Open\t   0.0900\n",
        "         High\t   0.0883\n",
        "         Low\t   0.0980\n",
        "         Close\t   0.3087\n",
        "         Volume\t    0.0982\n",
        "         MA_5\t   0.1242\n",
        "         MA_10\t   0.0974\n",
        "         MA_50\t   0.0951\n",
        "\n",
        "---\n",
        "\n",
        "## Step 4: Model Evaluation & Prediction\n",
        "### Prompt:\n",
        "> Use this model to predict stock price increase/decrease for period starting from 2023-01-01 to 2024-01-01. Report your performance metrics.\n",
        "\n",
        "### LLM Response:\n",
        "The Random Forest classifier's performance on the new test data from 2023-01-01 to 2024-01-01 is as follows:\n",
        "- **Accuracy:** 60.85%\n",
        "- **Confusion Matrix:** [[105,   0],\n",
        " [ 83,  24]]\n",
        "- **Classification Report:**\n",
        "\n",
        "            precision    recall  f1-score   support\n",
        "\n",
        "       0       0.56      1.00      0.72       105\n",
        "       1       1.00      0.22      0.37       107\n",
        "\n",
        "        accuracy                   0.61       212\n",
        "        macro avg  0.78     0.61       0.54       212\n",
        "        weighted avg 0.78    0.61        0.54       212\n",
        "\n",
        "---\n",
        "## Step 5: Strategy Discussion\n",
        "### Prompt:\n",
        "> What do you think about the performance of the model and what trading strategies could I build with this model?\n",
        "\n",
        "### LLM Response:\n",
        "- The model shows a moderate performance with an accuracy of approximately 60.85%. However, the precision and recall metrics indicate that while the model is good at identifying days when the stock price does not increase (class 0), it struggles significantly to identify days when the stock price does increase (class 1). This suggests a need for further feature engineering or model tuning to improve the prediction performance for this specific classification task.\n",
        "- Potential Trading Strategies\n",
        "Given the model's performance, potential trading strategies could be formulated as follows:\n",
        "\n",
        "#### Conservative Strategy:\n",
        "\n",
        "- **Focus**: Only trade on days when the model predicts a price increase with high confidence.\n",
        "- **Action**: Buy stocks when the model predicts an increase (class 1).\n",
        "- **Risk Management**: Since the model has a high precision for the no-increase class (class 0), it might be more reliable to stay out of the market when the model predicts no increase.\n",
        "\n",
        "#### Contrarian Strategy:\n",
        "\n",
        "- **Focus**: Take advantage of the model's high recall for no price increase predictions (class 0).\n",
        "- **Action**: Sell short or avoid buying stocks on days when the model predicts no increase.\n",
        "- **Risk Management**: This strategy assumes that the model’s predictions of no price increase are more reliable. It requires a careful assessment of market conditions to avoid false signals.\n",
        "\n",
        "#### Hybrid Strategy:\n",
        "\n",
        "- **Combine**: Use both conservative and contrarian strategies based on confidence thresholds.\n",
        "- **Action**: Set a higher threshold for buying (only buy when the predicted probability of price increase is significantly high) and a lower threshold for selling or staying out of the market.\n",
        "- **Risk Management**: Adjust thresholds dynamically based on recent model performance and market volatility.\n",
        "\n",
        "\n",
        "---\n",
        "## Conclusion\n",
        "\n",
        "Through this assignment, we have explored how LLMs can assist in complex machine learning tasks without requiring extensive coding knowledge. Key takeaways:\n",
        "\n",
        "- **Context Management**: LLMs have limited memory, so breaking tasks into smaller steps and reinforcing context is crucial.\n",
        "- **Feature Engineering with LLMs**: The model can suggest features but needs guidance on financial relevance.\n",
        "- **Modeling with LLMs**: LLMs can write and refine code, but human judgment is necessary to validate results.\n",
        "- **Real-world Limitations**: Stock price prediction remains challenging; models should be used critically and not solely relied upon for trading decisions.\n",
        "\n",
        "Next Steps:\n",
        "- Experiment with different LLMs and compare outputs.\n",
        "- Try refining feature engineering techniques.\n",
        "- Test alternative modeling approaches, such as deep learning or ensemble methods.\n",
        "\n"
      ]
    },
    {
      "cell_type": "code",
      "execution_count": 9,
      "metadata": {
        "colab": {
          "base_uri": "https://localhost:8080/"
        },
        "id": "tiq04h2n1Cka",
        "outputId": "d4d9faf6-8ad8-4b25-f8fb-e735a2fac13e"
      },
      "outputs": [
        {
          "output_type": "stream",
          "name": "stderr",
          "text": [
            "/tmp/ipython-input-3006220704.py:8: FutureWarning: YF.download() has changed argument auto_adjust default to True\n",
            "  data = yf.download(\"AAPL\", start=\"2020-01-01\", end=\"2023-01-01\")\n",
            "\r[*********************100%***********************]  1 of 1 completed\n"
          ]
        },
        {
          "output_type": "stream",
          "name": "stdout",
          "text": [
            "Accuracy: 0.4788732394366197\n",
            "\n",
            "Confusion Matrix:\n",
            " [[38 66]\n",
            " [45 64]]\n",
            "\n",
            "Classification Report:\n",
            "               precision    recall  f1-score   support\n",
            "\n",
            "           0       0.46      0.37      0.41       104\n",
            "           1       0.49      0.59      0.54       109\n",
            "\n",
            "    accuracy                           0.48       213\n",
            "   macro avg       0.48      0.48      0.47       213\n",
            "weighted avg       0.48      0.48      0.47       213\n",
            "\n",
            "\n",
            "Feature Importance:\n",
            " Volatility    0.150326\n",
            "MA_50         0.118539\n",
            "High          0.114947\n",
            "MA_10         0.111610\n",
            "Volume        0.105662\n",
            "Close         0.104593\n",
            "MA_5          0.100667\n",
            "Open          0.099463\n",
            "Low           0.094194\n",
            "dtype: float64\n"
          ]
        }
      ],
      "source": [
        "from sklearn.model_selection import train_test_split\n",
        "from sklearn.ensemble import RandomForestClassifier\n",
        "from sklearn.metrics import accuracy_score, classification_report, confusion_matrix\n",
        "import pandas as pd\n",
        "import yfinance as yf\n",
        "\n",
        "# Download historical data for AAPL from 2020-01-01 to 2023-01-01\n",
        "data = yf.download(\"AAPL\", start=\"2020-01-01\", end=\"2023-01-01\")\n",
        "\n",
        "# Feature Engineering\n",
        "# Calculate Moving Averages\n",
        "data['MA_5'] = data['Close'].rolling(window=5).mean()\n",
        "data['MA_10'] = data['Close'].rolling(window=10).mean()\n",
        "data['MA_50'] = data['Close'].rolling(window=50).mean()\n",
        "\n",
        "# Calculate Volatility (Rolling Standard Deviation)\n",
        "data['Volatility'] = data['Close'].rolling(window=14).std()\n",
        "\n",
        "# Create the target variable (1 if price increases the next day, 0 otherwise)\n",
        "data['Price_Increase'] = (data['Close'].shift(-1) > data['Close']).astype(int)\n",
        "\n",
        "# Drop rows with NaN values created by rolling windows and the target variable\n",
        "data.dropna(inplace=True)\n",
        "\n",
        "# Define features (X) and target (y)\n",
        "# Using the first four kinds of features as per the prompt's suggestion in 3.1,\n",
        "# plus the moving averages and volatility already engineered\n",
        "features = ['Open', 'High', 'Low', 'Close', 'Volume', 'MA_5', 'MA_10', 'MA_50', 'Volatility']\n",
        "X = data[features]\n",
        "y = data['Price_Increase']\n",
        "\n",
        "# Split data into training and testing sets (70/30 ratio)\n",
        "X_train, X_test, y_train, y_test = train_test_split(X, y, test_size=0.3, random_state=42)\n",
        "\n",
        "# Initialize and train the Random Forest Classifier\n",
        "model = RandomForestClassifier(n_estimators=100, random_state=42)\n",
        "model.fit(X_train, y_train)\n",
        "\n",
        "# Make predictions on the test set\n",
        "y_pred = model.predict(X_test)\n",
        "\n",
        "# Report performance metrics\n",
        "print(\"Accuracy:\", accuracy_score(y_test, y_pred))\n",
        "print(\"\\nConfusion Matrix:\\n\", confusion_matrix(y_test, y_pred))\n",
        "print(\"\\nClassification Report:\\n\", classification_report(y_test, y_pred))\n",
        "\n",
        "# Report feature importance\n",
        "feature_importances = pd.Series(model.feature_importances_, index=features).sort_values(ascending=False)\n",
        "print(\"\\nFeature Importance:\\n\", feature_importances)"
      ]
    },
    {
      "cell_type": "code",
      "source": [
        "# Step 4: Model Evaluation & Prediction\n",
        "\n",
        "# Download historical data for AAPL for the prediction period\n",
        "prediction_data = yf.download(\"AAPL\", start=\"2023-01-01\", end=\"2024-01-01\")\n",
        "\n",
        "# Apply the same feature engineering steps to the new data\n",
        "prediction_data['MA_5'] = prediction_data['Close'].rolling(window=5).mean()\n",
        "prediction_data['MA_10'] = prediction_data['Close'].rolling(window=10).mean()\n",
        "prediction_data['MA_50'] = prediction_data['Close'].rolling(window=50).mean()\n",
        "prediction_data['Volatility'] = prediction_data['Close'].rolling(window=14).std()\n",
        "\n",
        "# Drop rows with NaN values created by rolling windows\n",
        "prediction_data.dropna(inplace=True)\n",
        "\n",
        "# Create the target variable for the prediction period (for evaluation)\n",
        "prediction_data['Price_Increase'] = (prediction_data['Close'].shift(-1) > prediction_data['Close']).astype(int)\n",
        "\n",
        "# Drop the last row as it will have a NaN for Price_Increase\n",
        "prediction_data.dropna(inplace=True)\n",
        "\n",
        "\n",
        "# Define features (X_predict) and target (y_predict) for the prediction period\n",
        "X_predict = prediction_data[features]\n",
        "y_predict = prediction_data['Price_Increase']\n",
        "\n",
        "# Make predictions on the new data\n",
        "y_pred_predict = model.predict(X_predict)\n",
        "\n",
        "# Report performance metrics on the new data\n",
        "print(\"Performance on prediction period (2023-01-01 to 2024-01-01):\")\n",
        "print(\"Accuracy:\", accuracy_score(y_predict, y_pred_predict))\n",
        "print(\"\\nConfusion Matrix:\\n\", confusion_matrix(y_predict, y_pred_predict))\n",
        "print(\"\\nClassification Report:\\n\", classification_report(y_predict, y_pred_predict))"
      ],
      "metadata": {
        "colab": {
          "base_uri": "https://localhost:8080/"
        },
        "id": "mdFneTdx4vzT",
        "outputId": "303afdc8-4459-4e2b-f123-3be680647a93"
      },
      "execution_count": 10,
      "outputs": [
        {
          "output_type": "stream",
          "name": "stderr",
          "text": [
            "/tmp/ipython-input-1670818487.py:4: FutureWarning: YF.download() has changed argument auto_adjust default to True\n",
            "  prediction_data = yf.download(\"AAPL\", start=\"2023-01-01\", end=\"2024-01-01\")\n",
            "\r[*********************100%***********************]  1 of 1 completed\n"
          ]
        },
        {
          "output_type": "stream",
          "name": "stdout",
          "text": [
            "Performance on prediction period (2023-01-01 to 2024-01-01):\n",
            "Accuracy: 0.472636815920398\n",
            "\n",
            "Confusion Matrix:\n",
            " [[ 90   2]\n",
            " [104   5]]\n",
            "\n",
            "Classification Report:\n",
            "               precision    recall  f1-score   support\n",
            "\n",
            "           0       0.46      0.98      0.63        92\n",
            "           1       0.71      0.05      0.09       109\n",
            "\n",
            "    accuracy                           0.47       201\n",
            "   macro avg       0.59      0.51      0.36       201\n",
            "weighted avg       0.60      0.47      0.33       201\n",
            "\n"
          ]
        }
      ]
    },
    {
      "cell_type": "code",
      "source": [
        "import yfinance as yf\n",
        "import pandas as pd\n",
        "\n",
        "# Download historical data for AAPL from 2020-01-01 to 2023-01-01\n",
        "data = yf.download(\"AAPL\", start=\"2020-01-01\", end=\"2023-01-01\")\n",
        "\n",
        "# Feature Engineering\n",
        "# Calculate Moving Averages\n",
        "data['MA_5'] = data['Close'].rolling(window=5).mean()\n",
        "data['MA_10'] = data['Close'].rolling(window=10).mean()\n",
        "data['MA_50'] = data['Close'].rolling(window=50).mean()\n",
        "\n",
        "# Calculate Volatility (Rolling Standard Deviation)\n",
        "data['Volatility'] = data['Close'].rolling(window=14).std()\n",
        "\n",
        "# Drop rows with NaN values created by rolling windows\n",
        "data.dropna(inplace=True)\n",
        "# Display the first few rows with new features\n",
        "print(data.head())"
      ],
      "metadata": {
        "colab": {
          "base_uri": "https://localhost:8080/"
        },
        "id": "q-AIKqRG430x",
        "outputId": "e22f8e0a-f84b-4dc1-b040-1ce09e7838dc"
      },
      "execution_count": 11,
      "outputs": [
        {
          "output_type": "stream",
          "name": "stderr",
          "text": [
            "/tmp/ipython-input-2431956694.py:5: FutureWarning: YF.download() has changed argument auto_adjust default to True\n",
            "  data = yf.download(\"AAPL\", start=\"2020-01-01\", end=\"2023-01-01\")\n",
            "\r[*********************100%***********************]  1 of 1 completed"
          ]
        },
        {
          "output_type": "stream",
          "name": "stdout",
          "text": [
            "Price           Close       High        Low       Open     Volume       MA_5  \\\n",
            "Ticker           AAPL       AAPL       AAPL       AAPL       AAPL              \n",
            "Date                                                                           \n",
            "2020-03-13  67.292786  67.764857  61.235780  64.126297  370732000  65.515375   \n",
            "2020-03-16  58.635769  62.719763  58.100756  58.572824  322423600  64.355299   \n",
            "2020-03-17  61.213978  62.363885  57.713406  59.918814  324056000  62.782706   \n",
            "2020-03-18  59.715469  60.521618  57.403543  58.045074  300233600  61.390224   \n",
            "2020-03-19  59.257923  61.209139  58.732596  59.889769  271857200  61.223185   \n",
            "\n",
            "Price           MA_10      MA_50 Volatility  \n",
            "Ticker                                       \n",
            "Date                                         \n",
            "2020-03-13  68.412665  73.941989   3.483190  \n",
            "2020-03-16  67.042458  73.663934   4.311666  \n",
            "2020-03-17  66.159809  73.451548   4.512722  \n",
            "2020-03-18  64.802431  73.197744   4.904133  \n",
            "2020-03-19  63.637027  72.941599   5.265726  \n"
          ]
        },
        {
          "output_type": "stream",
          "name": "stderr",
          "text": [
            "\n"
          ]
        }
      ]
    },
    {
      "cell_type": "code",
      "source": [
        "import yfinance as yf\n",
        "import pandas as pd\n",
        "\n",
        "# Download historical data for AAPL from 2020-01-01 to 2023-01-01\n",
        "data = yf.download(\"AAPL\", start=\"2020-01-01\", end=\"2023-01-01\")\n",
        "\n",
        "# Feature Engineering\n",
        "# Calculate Moving Averages\n",
        "data['MA_5'] = data['Close'].rolling(window=5).mean()\n",
        "data['MA_10'] = data['Close'].rolling(window=10).mean()\n",
        "data['MA_50'] = data['Close'].rolling(window=50).mean()\n",
        "\n",
        "# Calculate Volatility (Rolling Standard Deviation)\n",
        "data['Volatility'] = data['Close'].rolling(window=14).std()\n",
        "\n",
        "# Drop rows with NaN values created by rolling windows\n",
        "data.dropna(inplace=True)\n",
        "\n",
        "# Display the first few rows with new features\n",
        "print(data.head())"
      ],
      "metadata": {
        "colab": {
          "base_uri": "https://localhost:8080/"
        },
        "id": "kZ5aIm4f49i9",
        "outputId": "aa8b8493-e031-474e-8f2c-80c1a0cbef6f"
      },
      "execution_count": 12,
      "outputs": [
        {
          "output_type": "stream",
          "name": "stderr",
          "text": [
            "/tmp/ipython-input-790055927.py:5: FutureWarning: YF.download() has changed argument auto_adjust default to True\n",
            "  data = yf.download(\"AAPL\", start=\"2020-01-01\", end=\"2023-01-01\")\n",
            "\r[*********************100%***********************]  1 of 1 completed"
          ]
        },
        {
          "output_type": "stream",
          "name": "stdout",
          "text": [
            "Price           Close       High        Low       Open     Volume       MA_5  \\\n",
            "Ticker           AAPL       AAPL       AAPL       AAPL       AAPL              \n",
            "Date                                                                           \n",
            "2020-03-13  67.292786  67.764857  61.235780  64.126297  370732000  65.515375   \n",
            "2020-03-16  58.635769  62.719763  58.100756  58.572824  322423600  64.355299   \n",
            "2020-03-17  61.213978  62.363885  57.713406  59.918814  324056000  62.782706   \n",
            "2020-03-18  59.715469  60.521618  57.403543  58.045074  300233600  61.390224   \n",
            "2020-03-19  59.257923  61.209139  58.732596  59.889769  271857200  61.223185   \n",
            "\n",
            "Price           MA_10      MA_50 Volatility  \n",
            "Ticker                                       \n",
            "Date                                         \n",
            "2020-03-13  68.412665  73.941989   3.483190  \n",
            "2020-03-16  67.042458  73.663934   4.311666  \n",
            "2020-03-17  66.159809  73.451548   4.512722  \n",
            "2020-03-18  64.802431  73.197744   4.904133  \n",
            "2020-03-19  63.637027  72.941599   5.265726  \n"
          ]
        },
        {
          "output_type": "stream",
          "name": "stderr",
          "text": [
            "\n"
          ]
        }
      ]
    },
    {
      "cell_type": "code",
      "source": [],
      "metadata": {
        "id": "oXBGUag55AfI"
      },
      "execution_count": null,
      "outputs": []
    }
  ],
  "metadata": {
    "colab": {
      "provenance": [],
      "include_colab_link": true
    },
    "kernelspec": {
      "display_name": "Python 3 (ipykernel)",
      "language": "python",
      "name": "python3"
    },
    "language_info": {
      "codemirror_mode": {
        "name": "ipython",
        "version": 3
      },
      "file_extension": ".py",
      "mimetype": "text/x-python",
      "name": "python",
      "nbconvert_exporter": "python",
      "pygments_lexer": "ipython3",
      "version": "3.12.7"
    }
  },
  "nbformat": 4,
  "nbformat_minor": 0
}